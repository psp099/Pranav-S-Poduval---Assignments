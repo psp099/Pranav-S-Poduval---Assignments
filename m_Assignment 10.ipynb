{
 "cells": [
  {
   "cell_type": "markdown",
   "id": "367374e0-2153-4f3f-8833-aeafc38a0cdc",
   "metadata": {},
   "source": [
    "<h1 style=\"text-align: center; font-size: 60px;\">Assignment 10</h1>\n",
    "<h3 style=\"text-align: center; font-size: 20px;\">(submitted on 17th Sept 2025)</h3>"
   ]
  },
  {
   "cell_type": "markdown",
   "id": "ebe66c0c-0d09-4247-9542-6bceadc58b09",
   "metadata": {},
   "source": [
    "# K-Fold Cross Validation "
   ]
  },
  {
   "cell_type": "code",
   "execution_count": 1,
   "id": "04a9c39e-396f-4913-9f31-f239ce38ca2f",
   "metadata": {},
   "outputs": [],
   "source": [
    "from sklearn.linear_model import LogisticRegression\n",
    "from sklearn.svm import SVC\n",
    "from sklearn.ensemble import RandomForestClassifier\n",
    "import numpy as np\n",
    "from sklearn.datasets import load_digits\n",
    "import matplotlib.pyplot as plt\n",
    "\n",
    "digits = load_digits()"
   ]
  },
  {
   "cell_type": "code",
   "execution_count": 22,
   "id": "000e5f58-1fd1-40ae-b786-52d56811a7c8",
   "metadata": {},
   "outputs": [],
   "source": [
    "from sklearn.model_selection import train_test_split\n",
    "X_train, X_test, y_train, y_test = train_test_split(digits.data, digits.target, test_size=0.3)"
   ]
  },
  {
   "cell_type": "markdown",
   "id": "7a9835e1-859d-45eb-9659-fbaceb5b0406",
   "metadata": {},
   "source": [
    "#### Logistic Regression"
   ]
  },
  {
   "cell_type": "code",
   "execution_count": 47,
   "id": "f87ed9c2-f7ed-4f94-9929-24f2ea6a194b",
   "metadata": {},
   "outputs": [
    {
     "data": {
      "text/plain": [
       "0.9165275459098498"
      ]
     },
     "execution_count": 47,
     "metadata": {},
     "output_type": "execute_result"
    }
   ],
   "source": [
    "lr = LogisticRegression(max_iter=500)\n",
    "lr.fit(X_train, y_train)\n",
    "lr.score(X_test, y_test)"
   ]
  },
  {
   "cell_type": "markdown",
   "id": "b9c7f822-4700-4e32-b6b6-0f6b3ba3c29b",
   "metadata": {},
   "source": [
    "#### SVM"
   ]
  },
  {
   "cell_type": "code",
   "execution_count": 24,
   "id": "668f8a22-a009-41d3-ac41-0bfb055a741c",
   "metadata": {},
   "outputs": [
    {
     "data": {
      "text/plain": [
       "0.4666666666666667"
      ]
     },
     "execution_count": 24,
     "metadata": {},
     "output_type": "execute_result"
    }
   ],
   "source": [
    "svm = SVC(gamma='auto')\n",
    "svm.fit(X_train, y_train)\n",
    "svm.score(X_test, y_test)"
   ]
  },
  {
   "cell_type": "markdown",
   "id": "b8a9ff5b-b4b5-4a0e-a3dd-522f5a953406",
   "metadata": {},
   "source": [
    "#### Random Forest"
   ]
  },
  {
   "cell_type": "code",
   "execution_count": 25,
   "id": "8b9b9da6-dc3a-44e2-99c3-d5ee62351192",
   "metadata": {},
   "outputs": [
    {
     "data": {
      "text/plain": [
       "0.9611111111111111"
      ]
     },
     "execution_count": 25,
     "metadata": {},
     "output_type": "execute_result"
    }
   ],
   "source": [
    "rf = RandomForestClassifier(n_estimators=40)\n",
    "rf.fit(X_train, y_train)\n",
    "rf.score(X_test, y_test)"
   ]
  },
  {
   "cell_type": "markdown",
   "id": "98760b4b-cae8-435a-a0f1-87939b3be9db",
   "metadata": {},
   "source": [
    "### KFold cross validation"
   ]
  },
  {
   "cell_type": "markdown",
   "id": "21a960ff-41c2-4cd6-a9fb-bffb774d3ea0",
   "metadata": {},
   "source": [
    "##### Basic example"
   ]
  },
  {
   "cell_type": "code",
   "execution_count": 26,
   "id": "6855412a-94b7-4c07-a4ca-60f94d9def7f",
   "metadata": {},
   "outputs": [
    {
     "data": {
      "text/plain": [
       "KFold(n_splits=5, random_state=None, shuffle=False)"
      ]
     },
     "execution_count": 26,
     "metadata": {},
     "output_type": "execute_result"
    }
   ],
   "source": [
    "from sklearn.model_selection import KFold\n",
    "kf = KFold()\n",
    "kf"
   ]
  },
  {
   "cell_type": "code",
   "execution_count": 28,
   "id": "67634954-f614-4633-a16b-7adf93789e68",
   "metadata": {},
   "outputs": [
    {
     "name": "stdout",
     "output_type": "stream",
     "text": [
      "[2 3 4 5 6 7 8] [0 1]\n",
      "[0 1 4 5 6 7 8] [2 3]\n",
      "[0 1 2 3 6 7 8] [4 5]\n",
      "[0 1 2 3 4 5 8] [6 7]\n",
      "[0 1 2 3 4 5 6 7] [8]\n"
     ]
    }
   ],
   "source": [
    "for train_index, test_index in kf.split([1,2,3,4,5,6,7,8,9]):\n",
    "    print(train_index, test_index)\n",
    "# shows how the data is split into train and test."
   ]
  },
  {
   "cell_type": "markdown",
   "id": "8fec0318-97f9-48c5-843d-1c5e7e22fa3a",
   "metadata": {},
   "source": [
    "##### Use KFold for our digits example"
   ]
  },
  {
   "cell_type": "code",
   "execution_count": 30,
   "id": "43ec9cbb-8076-48a1-b1ac-e34c18ffb371",
   "metadata": {},
   "outputs": [],
   "source": [
    "# A common method to check score of any model.\n",
    "\n",
    "def get_score(model, X_train, X_test, y_train, y_test):\n",
    "    model.fit(X_train, y_train)\n",
    "    return model.score(X_test, y_test)"
   ]
  },
  {
   "cell_type": "code",
   "execution_count": 46,
   "id": "f4438171-ef98-4962-83bc-7d694650435e",
   "metadata": {},
   "outputs": [
    {
     "name": "stdout",
     "output_type": "stream",
     "text": [
      "0.9165275459098498\n",
      "0.5125208681135225\n",
      "0.9148580968280468\n"
     ]
    }
   ],
   "source": [
    "# Example:\n",
    "print(get_score(LogisticRegression(max_iter=500), X_train, X_test, y_train, y_test))\n",
    "print(get_score(SVC(gamma='auto'), X_train, X_test, y_train, y_test))\n",
    "print(get_score(RandomForestClassifier(n_estimators=40), X_train, X_test, y_train, y_test))"
   ]
  },
  {
   "cell_type": "code",
   "execution_count": 40,
   "id": "9b70de0f-d22b-43f6-9867-cc6417fc350a",
   "metadata": {},
   "outputs": [],
   "source": [
    "from sklearn.model_selection import StratifiedKFold\n",
    "folds = StratifiedKFold(n_splits=3)"
   ]
  },
  {
   "cell_type": "code",
   "execution_count": 48,
   "id": "b9201267-0040-474f-b043-11c63dc430c6",
   "metadata": {},
   "outputs": [],
   "source": [
    "scores_logistic = []\n",
    "scores_svm = []\n",
    "scores_rf = []\n",
    "\n",
    "for train_index, test_index in folds.split(digits.data,digits.target):\n",
    "    X_train, X_test, y_train, y_test = digits.data[train_index], digits.data[test_index], \\\n",
    "                                       digits.target[train_index], digits.target[test_index]\n",
    "    scores_logistic.append(get_score(LogisticRegression(max_iter=500), X_train, X_test, y_train, y_test))  \n",
    "    scores_svm.append(get_score(SVC(gamma='auto'), X_train, X_test, y_train, y_test))\n",
    "    scores_rf.append(get_score(RandomForestClassifier(n_estimators=40), X_train, X_test, y_train, y_test))"
   ]
  },
  {
   "cell_type": "code",
   "execution_count": 49,
   "id": "ff83b518-5b86-43bd-a66f-11dbe7821b5a",
   "metadata": {},
   "outputs": [
    {
     "data": {
      "text/plain": [
       "[0.9198664440734557, 0.9415692821368948, 0.9165275459098498]"
      ]
     },
     "execution_count": 49,
     "metadata": {},
     "output_type": "execute_result"
    }
   ],
   "source": [
    "scores_logistic"
   ]
  },
  {
   "cell_type": "code",
   "execution_count": 50,
   "id": "42206cda-990b-4551-8e12-3026852991ed",
   "metadata": {},
   "outputs": [
    {
     "data": {
      "text/plain": [
       "[0.3806343906510851, 0.41068447412353926, 0.5125208681135225]"
      ]
     },
     "execution_count": 50,
     "metadata": {},
     "output_type": "execute_result"
    }
   ],
   "source": [
    "scores_svm"
   ]
  },
  {
   "cell_type": "code",
   "execution_count": 52,
   "id": "73a1b350-927f-4322-901e-ba5d5c99fc2c",
   "metadata": {},
   "outputs": [
    {
     "data": {
      "text/plain": [
       "[0.9248747913188647, 0.9565943238731218, 0.9265442404006677]"
      ]
     },
     "execution_count": 52,
     "metadata": {},
     "output_type": "execute_result"
    }
   ],
   "source": [
    "scores_rf"
   ]
  },
  {
   "cell_type": "markdown",
   "id": "ffc97022-eccd-4140-ada8-19a1fa329b8a",
   "metadata": {},
   "source": [
    "## cross_val_score function"
   ]
  },
  {
   "cell_type": "code",
   "execution_count": 59,
   "id": "611ceab4-df10-4dc2-8372-70bd794dc222",
   "metadata": {},
   "outputs": [
    {
     "data": {
      "text/plain": [
       "array([0.91986644, 0.94156928, 0.91652755])"
      ]
     },
     "execution_count": 59,
     "metadata": {},
     "output_type": "execute_result"
    }
   ],
   "source": [
    "from sklearn.model_selection import cross_val_score\n",
    "\n",
    "#Logistic regression model performance using cross_val_score\n",
    "cross_val_score(LogisticRegression(max_iter = 500), digits.data, digits.target, cv=3)"
   ]
  },
  {
   "cell_type": "code",
   "execution_count": 60,
   "id": "1e1e6ec5-2353-4d77-8459-f358349574da",
   "metadata": {},
   "outputs": [
    {
     "data": {
      "text/plain": [
       "array([0.38063439, 0.41068447, 0.51252087])"
      ]
     },
     "execution_count": 60,
     "metadata": {},
     "output_type": "execute_result"
    }
   ],
   "source": [
    "# svm model performance using cross_val_score\n",
    "cross_val_score(SVC(gamma='auto'), digits.data, digits.target, cv=3)"
   ]
  },
  {
   "cell_type": "code",
   "execution_count": 61,
   "id": "6409e334-f434-42ea-a498-1c46e8d5de11",
   "metadata": {},
   "outputs": [
    {
     "data": {
      "text/plain": [
       "array([0.93322204, 0.94657763, 0.92821369])"
      ]
     },
     "execution_count": 61,
     "metadata": {},
     "output_type": "execute_result"
    }
   ],
   "source": [
    "# random forest performance using cross_val_score\n",
    "cross_val_score(RandomForestClassifier(n_estimators=40),digits.data, digits.target, cv=3)"
   ]
  },
  {
   "cell_type": "markdown",
   "id": "231f4250-e326-4599-9a5f-eaff7c08506a",
   "metadata": {},
   "source": [
    "## Parameter tunning using K-Fold cross validation"
   ]
  },
  {
   "cell_type": "code",
   "execution_count": 62,
   "id": "a27a473a-27ea-435e-ad71-932df543b7ce",
   "metadata": {},
   "outputs": [
    {
     "data": {
      "text/plain": [
       "np.float64(0.8759310986964618)"
      ]
     },
     "execution_count": 62,
     "metadata": {},
     "output_type": "execute_result"
    }
   ],
   "source": [
    "scores1 = cross_val_score(RandomForestClassifier(n_estimators=5),digits.data, digits.target, cv=10)\n",
    "np.average(scores1)"
   ]
  },
  {
   "cell_type": "code",
   "execution_count": 63,
   "id": "762297e4-74df-4976-a2b4-b46f281ef987",
   "metadata": {},
   "outputs": [
    {
     "data": {
      "text/plain": [
       "np.float64(0.9309807572936064)"
      ]
     },
     "execution_count": 63,
     "metadata": {},
     "output_type": "execute_result"
    }
   ],
   "source": [
    "scores2 = cross_val_score(RandomForestClassifier(n_estimators=20),digits.data, digits.target, cv=10)\n",
    "np.average(scores2)"
   ]
  },
  {
   "cell_type": "code",
   "execution_count": 64,
   "id": "cc1d5909-43fc-413b-a51c-07279f9e2dae",
   "metadata": {},
   "outputs": [
    {
     "data": {
      "text/plain": [
       "np.float64(0.9443544382371197)"
      ]
     },
     "execution_count": 64,
     "metadata": {},
     "output_type": "execute_result"
    }
   ],
   "source": [
    "scores3 = cross_val_score(RandomForestClassifier(n_estimators=30),digits.data, digits.target, cv=10)\n",
    "np.average(scores3)"
   ]
  },
  {
   "cell_type": "code",
   "execution_count": 65,
   "id": "b06fbe7c-93cc-4fe4-b8b9-acebfc9b9f96",
   "metadata": {},
   "outputs": [
    {
     "data": {
      "text/plain": [
       "np.float64(0.9488050900062073)"
      ]
     },
     "execution_count": 65,
     "metadata": {},
     "output_type": "execute_result"
    }
   ],
   "source": [
    "scores4 = cross_val_score(RandomForestClassifier(n_estimators=40),digits.data, digits.target, cv=10)\n",
    "np.average(scores4)"
   ]
  },
  {
   "cell_type": "code",
   "execution_count": 66,
   "id": "0caafda4-0724-41bb-a6c0-92074d69519f",
   "metadata": {},
   "outputs": [],
   "source": [
    "# CONCLUSION:\n",
    "# --> Here we used cross_val_score to fine tune our random forest classifier\n",
    "#     and figured that having around 40 trees in random forest gives best result."
   ]
  },
  {
   "cell_type": "markdown",
   "id": "3f47dccd-2825-446c-b09a-20a77f3d224b",
   "metadata": {},
   "source": [
    "## EXERCISE"
   ]
  },
  {
   "cell_type": "code",
   "execution_count": 67,
   "id": "504c39bf-935d-4be3-9216-03c7b1e3f650",
   "metadata": {},
   "outputs": [
    {
     "data": {
      "text/plain": [
       "'\\nUse iris flower dataset from sklearn library and use cross_val_score against \\nfollowing models to measure the performance of each. \\nIn the end figure out the model with best performance,\\n\\n1. Logistic Regression\\n2. SVM\\n3. Decision Tree\\n4. Random Forest\\n'"
      ]
     },
     "execution_count": 67,
     "metadata": {},
     "output_type": "execute_result"
    }
   ],
   "source": [
    "'''\n",
    "Use iris flower dataset from sklearn library and use cross_val_score against \n",
    "following models to measure the performance of each. \n",
    "In the end figure out the model with best performance,\n",
    "\n",
    "1. Logistic Regression\n",
    "2. SVM\n",
    "3. Decision Tree\n",
    "4. Random Forest\n",
    "'''"
   ]
  },
  {
   "cell_type": "code",
   "execution_count": 69,
   "id": "7f3424fb-56a5-42f5-aa10-dd10ec693107",
   "metadata": {},
   "outputs": [],
   "source": [
    "from sklearn.datasets import load_iris\n",
    "iris = load_iris()"
   ]
  },
  {
   "cell_type": "code",
   "execution_count": 70,
   "id": "fefca162-d01f-484b-8927-bea2f7b8567b",
   "metadata": {},
   "outputs": [],
   "source": [
    "from sklearn.model_selection import train_test_split\n",
    "X_train, X_test, y_train, y_test = train_test_split(iris.data, iris.target, test_size=0.3)"
   ]
  },
  {
   "cell_type": "code",
   "execution_count": 71,
   "id": "d2218d30-ba1e-47cb-b6ec-bba2c2715747",
   "metadata": {},
   "outputs": [],
   "source": [
    "# creating a common function to check scores of any model given.\n",
    "\n",
    "def get_score(model, X_train, X_test, y_train, y_test):\n",
    "    model.fit(X_train, y_train)\n",
    "    return np.average(model.score(X_test, y_test))"
   ]
  },
  {
   "cell_type": "markdown",
   "id": "2a89ce03-66a4-4330-8530-efc692f7178d",
   "metadata": {},
   "source": [
    "### Working Out"
   ]
  },
  {
   "cell_type": "markdown",
   "id": "a4e089f2-b46f-4d0c-952e-e4294adb2010",
   "metadata": {},
   "source": [
    "#### Logistic Regression "
   ]
  },
  {
   "cell_type": "code",
   "execution_count": 78,
   "id": "f8c0b30b-c863-41f6-806c-74a762d07a84",
   "metadata": {},
   "outputs": [
    {
     "data": {
      "text/plain": [
       "np.float64(0.9111111111111111)"
      ]
     },
     "execution_count": 78,
     "metadata": {},
     "output_type": "execute_result"
    }
   ],
   "source": [
    "get_score(LogisticRegression(max_iter = 500), X_train, X_test, y_train, y_test )"
   ]
  },
  {
   "cell_type": "markdown",
   "id": "fa3bb22c-c60f-4748-ae34-66c49d68fcd7",
   "metadata": {},
   "source": [
    "#### SVM"
   ]
  },
  {
   "cell_type": "code",
   "execution_count": 74,
   "id": "4483c931-6a8f-4746-b0e1-39475ccbbf74",
   "metadata": {},
   "outputs": [
    {
     "data": {
      "text/plain": [
       "np.float64(0.9333333333333333)"
      ]
     },
     "execution_count": 74,
     "metadata": {},
     "output_type": "execute_result"
    }
   ],
   "source": [
    "get_score(SVC(), X_train, X_test, y_train, y_test )"
   ]
  },
  {
   "cell_type": "markdown",
   "id": "83ea31c8-9295-4e42-a688-de6b87102098",
   "metadata": {},
   "source": [
    "#### Decision Tree Classifier"
   ]
  },
  {
   "cell_type": "code",
   "execution_count": 75,
   "id": "bbc14640-2c7a-4694-8289-9ab1d084646a",
   "metadata": {},
   "outputs": [
    {
     "data": {
      "text/plain": [
       "np.float64(0.8888888888888888)"
      ]
     },
     "execution_count": 75,
     "metadata": {},
     "output_type": "execute_result"
    }
   ],
   "source": [
    "get_score(RandomForestClassifier(n_estimators=40), X_train, X_test, y_train, y_test )"
   ]
  },
  {
   "cell_type": "markdown",
   "id": "cbe09615-c60a-4f4f-a9a9-e1f08390abed",
   "metadata": {},
   "source": [
    "## Using cross_val_score function"
   ]
  },
  {
   "cell_type": "code",
   "execution_count": 93,
   "id": "9bd105ba-2fad-4c61-8a15-3eeed4b191d7",
   "metadata": {},
   "outputs": [
    {
     "data": {
      "text/plain": [
       "np.float64(0.9733333333333334)"
      ]
     },
     "execution_count": 93,
     "metadata": {},
     "output_type": "execute_result"
    }
   ],
   "source": [
    "# Logistic Regression\n",
    "l_scores = cross_val_score(LogisticRegression(max_iter = 200), iris.data, iris.target)\n",
    "np.average(l_scores)"
   ]
  },
  {
   "cell_type": "code",
   "execution_count": 94,
   "id": "63873466-c9fc-41dd-a869-cbeaf3f855a1",
   "metadata": {},
   "outputs": [
    {
     "data": {
      "text/plain": [
       "np.float64(0.9600000000000002)"
      ]
     },
     "execution_count": 94,
     "metadata": {},
     "output_type": "execute_result"
    }
   ],
   "source": [
    "# Decision Tree\n",
    "from sklearn.tree import DecisionTreeClassifier\n",
    "d_scores = cross_val_score(DecisionTreeClassifier(), iris.data, iris.target)\n",
    "np.average(d_scores)"
   ]
  },
  {
   "cell_type": "code",
   "execution_count": 95,
   "id": "a4223bfe-47ee-4606-b2ab-7a6b0c0bf2b9",
   "metadata": {},
   "outputs": [
    {
     "data": {
      "text/plain": [
       "np.float64(0.9666666666666666)"
      ]
     },
     "execution_count": 95,
     "metadata": {},
     "output_type": "execute_result"
    }
   ],
   "source": [
    "# Support Vector Machine (SVM)\n",
    "s_scores = cross_val_score(SVC(), iris.data, iris.target)\n",
    "np.average(s_scores)"
   ]
  },
  {
   "cell_type": "code",
   "execution_count": 96,
   "id": "e018ed10-c143-4a5d-a884-0700082b7226",
   "metadata": {},
   "outputs": [
    {
     "data": {
      "text/plain": [
       "np.float64(0.9466666666666667)"
      ]
     },
     "execution_count": 96,
     "metadata": {},
     "output_type": "execute_result"
    }
   ],
   "source": [
    "# Random Forest Classifer\n",
    "r_scores = cross_val_score(RandomForestClassifier(n_estimators=40), iris.data, iris.target)\n",
    "np.average(r_scores)"
   ]
  },
  {
   "cell_type": "markdown",
   "id": "9e670601-98d6-414f-921d-3ac52ef869eb",
   "metadata": {},
   "source": [
    "#### Best score so far is from Logistic Regression: 0.9733333333333334"
   ]
  },
  {
   "cell_type": "markdown",
   "id": "321706db-2486-42c9-871b-763c63206201",
   "metadata": {},
   "source": [
    "# END OF ASSIGNMENT 10"
   ]
  },
  {
   "cell_type": "code",
   "execution_count": null,
   "id": "f0873159-4d81-4f24-8532-cb21f301552c",
   "metadata": {},
   "outputs": [],
   "source": []
  }
 ],
 "metadata": {
  "kernelspec": {
   "display_name": "Python 3 (ipykernel)",
   "language": "python",
   "name": "python3"
  },
  "language_info": {
   "codemirror_mode": {
    "name": "ipython",
    "version": 3
   },
   "file_extension": ".py",
   "mimetype": "text/x-python",
   "name": "python",
   "nbconvert_exporter": "python",
   "pygments_lexer": "ipython3",
   "version": "3.11.1"
  }
 },
 "nbformat": 4,
 "nbformat_minor": 5
}
